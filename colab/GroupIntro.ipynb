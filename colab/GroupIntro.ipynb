{
  "nbformat": 4,
  "nbformat_minor": 0,
  "metadata": {
    "colab": {
      "name": "GroupIntro.ipynb",
      "provenance": [],
      "include_colab_link": true
    },
    "kernelspec": {
      "name": "python3",
      "display_name": "Python 3"
    }
  },
  "cells": [
    {
      "cell_type": "markdown",
      "metadata": {
        "id": "view-in-github",
        "colab_type": "text"
      },
      "source": [
        "<a href=\"https://colab.research.google.com/github/tuananht/CS2225.CH1501.N013/blob/master/GroupIntro.ipynb\" target=\"_parent\"><img src=\"https://colab.research.google.com/assets/colab-badge.svg\" alt=\"Open In Colab\"/></a>"
      ]
    },
    {
      "cell_type": "markdown",
      "metadata": {
        "id": "jnfGzX3x2mpp"
      },
      "source": [
        "## Trường Đại học Công nghệ Thông tin - ĐHQG Tp HCM\n",
        "---\n",
        "\n",
        "**CS2225**\n",
        "\n",
        "**Nhận dạng thị giác và ứng dụng**\n",
        "---\n",
        "\n",
        "### Thành viên:\n",
        "\n",
        "1. Trần Anh Tuấn - Nhóm trưởng\n",
        "2. Văn Thiên Luân\n",
        "3. Nguyễn Ngọc Thừa\n",
        "\n",
        "---\n",
        "\n",
        "\n",
        "\n"
      ]
    }
  ]
}